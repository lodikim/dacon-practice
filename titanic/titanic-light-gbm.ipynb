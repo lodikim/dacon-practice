{
 "cells": [
  {
   "cell_type": "markdown",
   "id": "697d6054",
   "metadata": {},
   "source": [
    "# Titanic Light GBM\n",
    "\n"
   ]
  },
  {
   "cell_type": "markdown",
   "id": "97d886ac",
   "metadata": {},
   "source": [
    "### Imports"
   ]
  },
  {
   "cell_type": "code",
   "execution_count": 1,
   "id": "6fcb76e4",
   "metadata": {},
   "outputs": [],
   "source": [
    "import lightgbm as lgb\n",
    "from matplotlib import pyplot as plt\n",
    "from matplotlib import rcParams\n",
    "import numpy as np\n",
    "from pathlib import Path\n",
    "import pandas as pd\n",
    "from sklearn.metrics import accuracy_score\n",
    "from sklearn.model_selection import train_test_split\n",
    "import seaborn as sns"
   ]
  },
  {
   "cell_type": "markdown",
   "id": "b541c7e8",
   "metadata": {},
   "source": [
    "### Data Download"
   ]
  },
  {
   "cell_type": "code",
   "execution_count": 2,
   "id": "2dbbda7a",
   "metadata": {},
   "outputs": [],
   "source": [
    "data_dir = Path('../../dacon-inputs/titanic/input')\n",
    "sub_dir = Path('../../dacon-inputs/titanic/sub')\n",
    "feature_dir = Path('../../dacon-inputs/titanic/feature')\n",
    "\n",
    "trn_file = data_dir / 'train.csv'\n",
    "tst_file = data_dir / 'test.csv'\n",
    "sample_file = data_dir / 'submission.csv'\n",
    "feature_file = feature_dir / 'numerical_features.csv'\n",
    "seed = 42"
   ]
  },
  {
   "cell_type": "code",
   "execution_count": 3,
   "id": "dd30b552",
   "metadata": {},
   "outputs": [
    {
     "data": {
      "text/plain": [
       "WindowsPath('C:/Users/bryan/dacon-inputs/titanic/input')"
      ]
     },
     "execution_count": 3,
     "metadata": {},
     "output_type": "execute_result"
    }
   ],
   "source": [
    "data_dir.resolve()"
   ]
  },
  {
   "cell_type": "markdown",
   "id": "93cbe083",
   "metadata": {},
   "source": [
    "### Light GBM"
   ]
  },
  {
   "cell_type": "code",
   "execution_count": 4,
   "id": "b672a902",
   "metadata": {},
   "outputs": [],
   "source": [
    "target_col = 'Survived'"
   ]
  },
  {
   "cell_type": "code",
   "execution_count": 5,
   "id": "6877cf13",
   "metadata": {},
   "outputs": [],
   "source": [
    "algo_name = 'lgb'\n",
    "feature_name = 'numerical_features'\n",
    "model_name = f'{algo_name}_{feature_name}'\n",
    "\n",
    "feature_file = feature_dir / f'{feature_name}.csv'\n",
    "sub_file = sub_dir / f'{model_name}.csv'"
   ]
  },
  {
   "cell_type": "code",
   "execution_count": 6,
   "id": "80cb428a",
   "metadata": {},
   "outputs": [
    {
     "name": "stdout",
     "output_type": "stream",
     "text": [
      "(1309, 6)\n"
     ]
    },
    {
     "data": {
      "text/html": [
       "<div>\n",
       "<style scoped>\n",
       "    .dataframe tbody tr th:only-of-type {\n",
       "        vertical-align: middle;\n",
       "    }\n",
       "\n",
       "    .dataframe tbody tr th {\n",
       "        vertical-align: top;\n",
       "    }\n",
       "\n",
       "    .dataframe thead th {\n",
       "        text-align: right;\n",
       "    }\n",
       "</style>\n",
       "<table border=\"1\" class=\"dataframe\">\n",
       "  <thead>\n",
       "    <tr style=\"text-align: right;\">\n",
       "      <th></th>\n",
       "      <th>Survived</th>\n",
       "      <th>Pclass</th>\n",
       "      <th>Age</th>\n",
       "      <th>SibSp</th>\n",
       "      <th>Parch</th>\n",
       "      <th>Fare</th>\n",
       "    </tr>\n",
       "    <tr>\n",
       "      <th>PassengerId</th>\n",
       "      <th></th>\n",
       "      <th></th>\n",
       "      <th></th>\n",
       "      <th></th>\n",
       "      <th></th>\n",
       "      <th></th>\n",
       "    </tr>\n",
       "  </thead>\n",
       "  <tbody>\n",
       "    <tr>\n",
       "      <th>1</th>\n",
       "      <td>0.0</td>\n",
       "      <td>3</td>\n",
       "      <td>22.0</td>\n",
       "      <td>1</td>\n",
       "      <td>0</td>\n",
       "      <td>7.2500</td>\n",
       "    </tr>\n",
       "    <tr>\n",
       "      <th>2</th>\n",
       "      <td>1.0</td>\n",
       "      <td>1</td>\n",
       "      <td>38.0</td>\n",
       "      <td>1</td>\n",
       "      <td>0</td>\n",
       "      <td>71.2833</td>\n",
       "    </tr>\n",
       "    <tr>\n",
       "      <th>3</th>\n",
       "      <td>1.0</td>\n",
       "      <td>3</td>\n",
       "      <td>26.0</td>\n",
       "      <td>0</td>\n",
       "      <td>0</td>\n",
       "      <td>7.9250</td>\n",
       "    </tr>\n",
       "    <tr>\n",
       "      <th>4</th>\n",
       "      <td>1.0</td>\n",
       "      <td>1</td>\n",
       "      <td>35.0</td>\n",
       "      <td>1</td>\n",
       "      <td>0</td>\n",
       "      <td>53.1000</td>\n",
       "    </tr>\n",
       "    <tr>\n",
       "      <th>5</th>\n",
       "      <td>0.0</td>\n",
       "      <td>3</td>\n",
       "      <td>35.0</td>\n",
       "      <td>0</td>\n",
       "      <td>0</td>\n",
       "      <td>8.0500</td>\n",
       "    </tr>\n",
       "  </tbody>\n",
       "</table>\n",
       "</div>"
      ],
      "text/plain": [
       "             Survived  Pclass   Age  SibSp  Parch     Fare\n",
       "PassengerId                                               \n",
       "1                 0.0       3  22.0      1      0   7.2500\n",
       "2                 1.0       1  38.0      1      0  71.2833\n",
       "3                 1.0       3  26.0      0      0   7.9250\n",
       "4                 1.0       1  35.0      1      0  53.1000\n",
       "5                 0.0       3  35.0      0      0   8.0500"
      ]
     },
     "execution_count": 6,
     "metadata": {},
     "output_type": "execute_result"
    }
   ],
   "source": [
    "df = pd.read_csv(feature_file, index_col=0)\n",
    "print(df.shape)\n",
    "df.head()"
   ]
  },
  {
   "cell_type": "code",
   "execution_count": 7,
   "id": "01aabe93",
   "metadata": {},
   "outputs": [
    {
     "name": "stdout",
     "output_type": "stream",
     "text": [
      "(891,) (891, 5) (418, 5)\n"
     ]
    }
   ],
   "source": [
    "# Split Train/Test Data\n",
    "y = df[target_col].values[:891]\n",
    "df.drop(target_col, axis=1, inplace=True)\n",
    "trn = df.iloc[:891]\n",
    "tst = df.iloc[891:]\n",
    "feature_name = df.columns.tolist()\n",
    "print(y.shape, trn.shape, tst.shape)"
   ]
  },
  {
   "cell_type": "code",
   "execution_count": 8,
   "id": "57244b15",
   "metadata": {},
   "outputs": [
    {
     "name": "stdout",
     "output_type": "stream",
     "text": [
      "(712, 5) (179, 5) (712,) (179,)\n"
     ]
    }
   ],
   "source": [
    "X_trn, X_val, y_trn, y_val = train_test_split(trn, y, test_size=.2, random_state=seed)\n",
    "print(X_trn.shape, X_val.shape, y_trn.shape, y_val.shape)"
   ]
  },
  {
   "cell_type": "code",
   "execution_count": 12,
   "id": "19ee17c3",
   "metadata": {},
   "outputs": [
    {
     "name": "stdout",
     "output_type": "stream",
     "text": [
      "[1]\tvalid_0's binary_logloss: 0.680328\n",
      "Training until validation scores don't improve for 10 rounds\n",
      "[2]\tvalid_0's binary_logloss: 0.679895\n",
      "[3]\tvalid_0's binary_logloss: 0.679372\n",
      "[4]\tvalid_0's binary_logloss: 0.678803\n",
      "[5]\tvalid_0's binary_logloss: 0.678266\n",
      "[6]\tvalid_0's binary_logloss: 0.677651\n",
      "[7]\tvalid_0's binary_logloss: 0.67714\n",
      "[8]\tvalid_0's binary_logloss: 0.676903\n",
      "[9]\tvalid_0's binary_logloss: 0.676297\n",
      "[10]\tvalid_0's binary_logloss: 0.67588\n",
      "[11]\tvalid_0's binary_logloss: 0.67535\n",
      "[12]\tvalid_0's binary_logloss: 0.674939\n",
      "[13]\tvalid_0's binary_logloss: 0.674421\n",
      "[14]\tvalid_0's binary_logloss: 0.674014\n",
      "[15]\tvalid_0's binary_logloss: 0.673507\n",
      "[16]\tvalid_0's binary_logloss: 0.672968\n",
      "[17]\tvalid_0's binary_logloss: 0.672383\n",
      "[18]\tvalid_0's binary_logloss: 0.671802\n",
      "[19]\tvalid_0's binary_logloss: 0.671398\n",
      "[20]\tvalid_0's binary_logloss: 0.671002\n",
      "[21]\tvalid_0's binary_logloss: 0.670505\n",
      "[22]\tvalid_0's binary_logloss: 0.670114\n",
      "[23]\tvalid_0's binary_logloss: 0.669616\n",
      "[24]\tvalid_0's binary_logloss: 0.669097\n",
      "[25]\tvalid_0's binary_logloss: 0.66861\n",
      "[26]\tvalid_0's binary_logloss: 0.668227\n",
      "[27]\tvalid_0's binary_logloss: 0.667739\n",
      "[28]\tvalid_0's binary_logloss: 0.66736\n",
      "[29]\tvalid_0's binary_logloss: 0.666877\n",
      "[30]\tvalid_0's binary_logloss: 0.666496\n",
      "[31]\tvalid_0's binary_logloss: 0.666017\n",
      "[32]\tvalid_0's binary_logloss: 0.665647\n",
      "[33]\tvalid_0's binary_logloss: 0.665173\n",
      "[34]\tvalid_0's binary_logloss: 0.664801\n",
      "[35]\tvalid_0's binary_logloss: 0.664427\n",
      "[36]\tvalid_0's binary_logloss: 0.663934\n",
      "[37]\tvalid_0's binary_logloss: 0.663469\n",
      "[38]\tvalid_0's binary_logloss: 0.663103\n",
      "[39]\tvalid_0's binary_logloss: 0.662648\n",
      "[40]\tvalid_0's binary_logloss: 0.662431\n",
      "[41]\tvalid_0's binary_logloss: 0.661906\n",
      "[42]\tvalid_0's binary_logloss: 0.661553\n",
      "[43]\tvalid_0's binary_logloss: 0.6611\n",
      "[44]\tvalid_0's binary_logloss: 0.66075\n",
      "[45]\tvalid_0's binary_logloss: 0.660234\n",
      "[46]\tvalid_0's binary_logloss: 0.659889\n",
      "[47]\tvalid_0's binary_logloss: 0.659535\n",
      "[48]\tvalid_0's binary_logloss: 0.659324\n",
      "[49]\tvalid_0's binary_logloss: 0.658888\n",
      "[50]\tvalid_0's binary_logloss: 0.658548\n",
      "[51]\tvalid_0's binary_logloss: 0.658111\n",
      "[52]\tvalid_0's binary_logloss: 0.657903\n",
      "[53]\tvalid_0's binary_logloss: 0.657475\n",
      "[54]\tvalid_0's binary_logloss: 0.656976\n",
      "[55]\tvalid_0's binary_logloss: 0.656634\n",
      "[56]\tvalid_0's binary_logloss: 0.65643\n",
      "[57]\tvalid_0's binary_logloss: 0.655937\n",
      "[58]\tvalid_0's binary_logloss: 0.655446\n",
      "[59]\tvalid_0's binary_logloss: 0.655111\n",
      "[60]\tvalid_0's binary_logloss: 0.654807\n",
      "[61]\tvalid_0's binary_logloss: 0.654323\n",
      "[62]\tvalid_0's binary_logloss: 0.654023\n",
      "[63]\tvalid_0's binary_logloss: 0.653694\n",
      "[64]\tvalid_0's binary_logloss: 0.653397\n",
      "[65]\tvalid_0's binary_logloss: 0.652921\n",
      "[66]\tvalid_0's binary_logloss: 0.652627\n",
      "[67]\tvalid_0's binary_logloss: 0.652218\n",
      "[68]\tvalid_0's binary_logloss: 0.651928\n",
      "[69]\tvalid_0's binary_logloss: 0.65146\n",
      "[70]\tvalid_0's binary_logloss: 0.651173\n",
      "[71]\tvalid_0's binary_logloss: 0.650772\n",
      "[72]\tvalid_0's binary_logloss: 0.650488\n",
      "[73]\tvalid_0's binary_logloss: 0.650091\n",
      "[74]\tvalid_0's binary_logloss: 0.649796\n",
      "[75]\tvalid_0's binary_logloss: 0.649484\n",
      "[76]\tvalid_0's binary_logloss: 0.649206\n",
      "[77]\tvalid_0's binary_logloss: 0.648753\n",
      "[78]\tvalid_0's binary_logloss: 0.648302\n",
      "[79]\tvalid_0's binary_logloss: 0.647983\n",
      "[80]\tvalid_0's binary_logloss: 0.647793\n",
      "[81]\tvalid_0's binary_logloss: 0.647409\n",
      "[82]\tvalid_0's binary_logloss: 0.646965\n",
      "[83]\tvalid_0's binary_logloss: 0.646582\n",
      "[84]\tvalid_0's binary_logloss: 0.646314\n",
      "[85]\tvalid_0's binary_logloss: 0.645933\n",
      "[86]\tvalid_0's binary_logloss: 0.645667\n",
      "[87]\tvalid_0's binary_logloss: 0.645358\n",
      "[88]\tvalid_0's binary_logloss: 0.645095\n",
      "[89]\tvalid_0's binary_logloss: 0.644724\n",
      "[90]\tvalid_0's binary_logloss: 0.644294\n",
      "[91]\tvalid_0's binary_logloss: 0.643991\n",
      "[92]\tvalid_0's binary_logloss: 0.643809\n",
      "[93]\tvalid_0's binary_logloss: 0.643383\n",
      "[94]\tvalid_0's binary_logloss: 0.643114\n",
      "[95]\tvalid_0's binary_logloss: 0.642752\n",
      "[96]\tvalid_0's binary_logloss: 0.642498\n",
      "[97]\tvalid_0's binary_logloss: 0.64208\n",
      "[98]\tvalid_0's binary_logloss: 0.641664\n",
      "[99]\tvalid_0's binary_logloss: 0.641304\n",
      "[100]\tvalid_0's binary_logloss: 0.641055\n",
      "Did not meet early stopping. Best iteration is:\n",
      "[100]\tvalid_0's binary_logloss: 0.641055\n"
     ]
    }
   ],
   "source": [
    "# Train LightGBM Classifier\n",
    "clf = lgb.LGBMClassifier(objective='binary', # survived: 0 or 1\n",
    "                         learning_rate=0.003,\n",
    "                         sub_feature=0.5,\n",
    "                         num_leaves=10, # default는 훨씬 크지만, 작은 데이터 세트이기 때문에\n",
    "                         min_child_samples = 50,\n",
    "                         max_depth = 10\n",
    "                        )\n",
    "\n",
    "clf.fit(X_trn, y_trn,\n",
    "        eval_set=[(X_val, y_val)],\n",
    "        eval_metric='binary_logloss', # binary classification\n",
    "        early_stopping_rounds=10)\n",
    "p_val = clf.predict(X_val)\n",
    "p_tst = clf.predict(tst)"
   ]
  },
  {
   "cell_type": "code",
   "execution_count": 13,
   "id": "72628852",
   "metadata": {},
   "outputs": [
    {
     "name": "stdout",
     "output_type": "stream",
     "text": [
      "58.6592%\n"
     ]
    }
   ],
   "source": [
    "print(f'{accuracy_score(y_val, p_val) * 100:.4f}%')"
   ]
  },
  {
   "cell_type": "markdown",
   "id": "56533c4b",
   "metadata": {},
   "source": [
    "Very low accuracy: probably because dataset is too small (overfitting)"
   ]
  },
  {
   "cell_type": "code",
   "execution_count": 14,
   "id": "05cf1db7",
   "metadata": {},
   "outputs": [
    {
     "data": {
      "text/plain": [
       "<AxesSubplot:ylabel='feature'>"
      ]
     },
     "execution_count": 14,
     "metadata": {},
     "output_type": "execute_result"
    },
    {
     "data": {
      "image/png": "[encoded data removed]",
      "text/plain": [
       "<Figure size 432x288 with 1 Axes>"
      ]
     },
     "metadata": {
      "needs_background": "light"
     },
     "output_type": "display_data"
    }
   ],
   "source": [
    "# Visualize Feature Importance\n",
    "imp = pd.DataFrame({'feature': trn.columns, 'importance': clf.feature_importances_})\n",
    "imp = imp.sort_values('importance').set_index('feature')\n",
    "imp.plot(kind='barh')"
   ]
  },
  {
   "cell_type": "code",
   "execution_count": 15,
   "id": "ba0ce2b8",
   "metadata": {},
   "outputs": [
    {
     "name": "stdout",
     "output_type": "stream",
     "text": [
      "(418, 1)\n"
     ]
    },
    {
     "data": {
      "text/html": [
       "<div>\n",
       "<style scoped>\n",
       "    .dataframe tbody tr th:only-of-type {\n",
       "        vertical-align: middle;\n",
       "    }\n",
       "\n",
       "    .dataframe tbody tr th {\n",
       "        vertical-align: top;\n",
       "    }\n",
       "\n",
       "    .dataframe thead th {\n",
       "        text-align: right;\n",
       "    }\n",
       "</style>\n",
       "<table border=\"1\" class=\"dataframe\">\n",
       "  <thead>\n",
       "    <tr style=\"text-align: right;\">\n",
       "      <th></th>\n",
       "      <th>Survived</th>\n",
       "    </tr>\n",
       "    <tr>\n",
       "      <th>PassengerId</th>\n",
       "      <th></th>\n",
       "    </tr>\n",
       "  </thead>\n",
       "  <tbody>\n",
       "    <tr>\n",
       "      <th>892</th>\n",
       "      <td>0</td>\n",
       "    </tr>\n",
       "    <tr>\n",
       "      <th>893</th>\n",
       "      <td>1</td>\n",
       "    </tr>\n",
       "    <tr>\n",
       "      <th>894</th>\n",
       "      <td>0</td>\n",
       "    </tr>\n",
       "    <tr>\n",
       "      <th>895</th>\n",
       "      <td>0</td>\n",
       "    </tr>\n",
       "    <tr>\n",
       "      <th>896</th>\n",
       "      <td>1</td>\n",
       "    </tr>\n",
       "  </tbody>\n",
       "</table>\n",
       "</div>"
      ],
      "text/plain": [
       "             Survived\n",
       "PassengerId          \n",
       "892                 0\n",
       "893                 1\n",
       "894                 0\n",
       "895                 0\n",
       "896                 1"
      ]
     },
     "execution_count": 15,
     "metadata": {},
     "output_type": "execute_result"
    }
   ],
   "source": [
    "# Create Submission File\n",
    "sub = pd.read_csv(sample_file, index_col=0)\n",
    "print(sub.shape)\n",
    "sub.head()"
   ]
  },
  {
   "cell_type": "code",
   "execution_count": 16,
   "id": "aff246ed",
   "metadata": {},
   "outputs": [
    {
     "data": {
      "text/html": [
       "<div>\n",
       "<style scoped>\n",
       "    .dataframe tbody tr th:only-of-type {\n",
       "        vertical-align: middle;\n",
       "    }\n",
       "\n",
       "    .dataframe tbody tr th {\n",
       "        vertical-align: top;\n",
       "    }\n",
       "\n",
       "    .dataframe thead th {\n",
       "        text-align: right;\n",
       "    }\n",
       "</style>\n",
       "<table border=\"1\" class=\"dataframe\">\n",
       "  <thead>\n",
       "    <tr style=\"text-align: right;\">\n",
       "      <th></th>\n",
       "      <th>Survived</th>\n",
       "    </tr>\n",
       "    <tr>\n",
       "      <th>PassengerId</th>\n",
       "      <th></th>\n",
       "    </tr>\n",
       "  </thead>\n",
       "  <tbody>\n",
       "    <tr>\n",
       "      <th>892</th>\n",
       "      <td>0.0</td>\n",
       "    </tr>\n",
       "    <tr>\n",
       "      <th>893</th>\n",
       "      <td>0.0</td>\n",
       "    </tr>\n",
       "    <tr>\n",
       "      <th>894</th>\n",
       "      <td>0.0</td>\n",
       "    </tr>\n",
       "    <tr>\n",
       "      <th>895</th>\n",
       "      <td>0.0</td>\n",
       "    </tr>\n",
       "    <tr>\n",
       "      <th>896</th>\n",
       "      <td>0.0</td>\n",
       "    </tr>\n",
       "  </tbody>\n",
       "</table>\n",
       "</div>"
      ],
      "text/plain": [
       "             Survived\n",
       "PassengerId          \n",
       "892               0.0\n",
       "893               0.0\n",
       "894               0.0\n",
       "895               0.0\n",
       "896               0.0"
      ]
     },
     "execution_count": 16,
     "metadata": {},
     "output_type": "execute_result"
    }
   ],
   "source": [
    "sub[target_col] = p_tst\n",
    "sub.head()"
   ]
  },
  {
   "cell_type": "code",
   "execution_count": 17,
   "id": "801f6769",
   "metadata": {},
   "outputs": [
    {
     "data": {
      "text/plain": [
       "0.0    418\n",
       "Name: Survived, dtype: int64"
      ]
     },
     "execution_count": 17,
     "metadata": {},
     "output_type": "execute_result"
    }
   ],
   "source": [
    "sub[target_col].value_counts()"
   ]
  },
  {
   "cell_type": "code",
   "execution_count": 18,
   "id": "bdf2dee0",
   "metadata": {},
   "outputs": [],
   "source": [
    "# Saving Submission File\n",
    "sub.to_csv(sub_file)"
   ]
  },
  {
   "cell_type": "code",
   "execution_count": null,
   "id": "dcded534",
   "metadata": {},
   "outputs": [],
   "source": []
  }
 ],
 "metadata": {
  "kernelspec": {
   "display_name": "py37",
   "language": "python",
   "name": "py37"
  },
  "language_info": {
   "codemirror_mode": {
    "name": "ipython",
    "version": 3
   },
   "file_extension": ".py",
   "mimetype": "text/x-python",
   "name": "python",
   "nbconvert_exporter": "python",
   "pygments_lexer": "ipython3",
   "version": "3.7.11"
  }
 },
 "nbformat": 4,
 "nbformat_minor": 5
}
