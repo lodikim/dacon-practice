{
 "cells": [
  {
   "cell_type": "markdown",
   "id": "697d6054",
   "metadata": {},
   "source": [
    "# 08-Light GBM"
   ]
  },
  {
   "cell_type": "markdown",
   "id": "97d886ac",
   "metadata": {},
   "source": [
    "### Imports"
   ]
  },
  {
   "cell_type": "code",
   "execution_count": 3,
   "id": "6fcb76e4",
   "metadata": {},
   "outputs": [],
   "source": [
    "import lightgbm as lgb\n",
    "from matplotlib import pyplot as plt\n",
    "from matplotlib import rcParams\n",
    "import numpy as np\n",
    "from pathlib import Path\n",
    "import pandas as pd\n",
    "from sklearn.metrics import accuracy_score\n",
    "from sklearn.model_selection import train_test_split\n",
    "import seaborn as sns"
   ]
  },
  {
   "cell_type": "code",
   "execution_count": 4,
   "id": "8d55561e",
   "metadata": {},
   "outputs": [],
   "source": [
    "rcParams['figure.figsize'] = (16, 8)\n",
    "plt.style.use('fivethirtyeight')\n",
    "pd.set_option('max_columns', 100)\n",
    "pd.set_option(\"display.precision\", 4)"
   ]
  },
  {
   "cell_type": "markdown",
   "id": "b541c7e8",
   "metadata": {},
   "source": [
    "### Load Train Data"
   ]
  },
  {
   "cell_type": "code",
   "execution_count": 5,
   "id": "2dbbda7a",
   "metadata": {},
   "outputs": [],
   "source": [
    "data_dir = Path('../../dacon-inputs/dankook/input')\n",
    "sub_dir = Path('../../dacon-inputs/dankook/sub')\n",
    "feature_dir = Path('../../dacon-inputs/dankook/feature')\n",
    "\n",
    "trn_file = data_dir / 'train.csv'\n",
    "tst_file = data_dir / 'test.csv'\n",
    "sample_file = data_dir / 'sample_submission.csv'\n",
    "\n",
    "target_col = 'class'\n",
    "seed = 42"
   ]
  },
  {
   "cell_type": "code",
   "execution_count": 6,
   "id": "dd30b552",
   "metadata": {},
   "outputs": [
    {
     "data": {
      "text/plain": [
       "WindowsPath('C:/Users/bryan/dacon-inputs/dankook/input')"
      ]
     },
     "execution_count": 6,
     "metadata": {},
     "output_type": "execute_result"
    }
   ],
   "source": [
    "data_dir.resolve()"
   ]
  },
  {
   "cell_type": "code",
   "execution_count": 7,
   "id": "71eff7be",
   "metadata": {},
   "outputs": [],
   "source": [
    "algo_name = 'lgb'\n",
    "feature_name = 'feature'\n",
    "model_name = f'{algo_name}_{feature_name}'\n",
    "\n",
    "feature_file = feature_dir / f'{feature_name}.csv'\n",
    "sub_file = sub_dir / f'{model_name}.csv'"
   ]
  },
  {
   "cell_type": "code",
   "execution_count": 8,
   "id": "eac8fbfd",
   "metadata": {},
   "outputs": [
    {
     "name": "stdout",
     "output_type": "stream",
     "text": [
      "(400000, 20)\n"
     ]
    },
    {
     "data": {
      "text/html": [
       "<div>\n",
       "<style scoped>\n",
       "    .dataframe tbody tr th:only-of-type {\n",
       "        vertical-align: middle;\n",
       "    }\n",
       "\n",
       "    .dataframe tbody tr th {\n",
       "        vertical-align: top;\n",
       "    }\n",
       "\n",
       "    .dataframe thead th {\n",
       "        text-align: right;\n",
       "    }\n",
       "</style>\n",
       "<table border=\"1\" class=\"dataframe\">\n",
       "  <thead>\n",
       "    <tr style=\"text-align: right;\">\n",
       "      <th></th>\n",
       "      <th>z</th>\n",
       "      <th>redshift</th>\n",
       "      <th>dered_u</th>\n",
       "      <th>dered_g</th>\n",
       "      <th>dered_r</th>\n",
       "      <th>dered_i</th>\n",
       "      <th>dered_z</th>\n",
       "      <th>nObserve</th>\n",
       "      <th>airmass_u</th>\n",
       "      <th>class</th>\n",
       "      <th>d_dered_u</th>\n",
       "      <th>d_dered_g</th>\n",
       "      <th>d_dered_r</th>\n",
       "      <th>d_dered_i</th>\n",
       "      <th>d_dered_z</th>\n",
       "      <th>d_dered_ig</th>\n",
       "      <th>d_dered_zg</th>\n",
       "      <th>d_dered_rz</th>\n",
       "      <th>d_dered_iz</th>\n",
       "      <th>d_obs_det</th>\n",
       "    </tr>\n",
       "    <tr>\n",
       "      <th>id</th>\n",
       "      <th></th>\n",
       "      <th></th>\n",
       "      <th></th>\n",
       "      <th></th>\n",
       "      <th></th>\n",
       "      <th></th>\n",
       "      <th></th>\n",
       "      <th></th>\n",
       "      <th></th>\n",
       "      <th></th>\n",
       "      <th></th>\n",
       "      <th></th>\n",
       "      <th></th>\n",
       "      <th></th>\n",
       "      <th></th>\n",
       "      <th></th>\n",
       "      <th></th>\n",
       "      <th></th>\n",
       "      <th></th>\n",
       "      <th></th>\n",
       "    </tr>\n",
       "  </thead>\n",
       "  <tbody>\n",
       "    <tr>\n",
       "      <th>0</th>\n",
       "      <td>16.9396</td>\n",
       "      <td>-8.1086e-05</td>\n",
       "      <td>23.1243</td>\n",
       "      <td>20.2578</td>\n",
       "      <td>18.9551</td>\n",
       "      <td>17.6321</td>\n",
       "      <td>16.9089</td>\n",
       "      <td>2.9444</td>\n",
       "      <td>1.1898</td>\n",
       "      <td>0.0</td>\n",
       "      <td>-0.1397</td>\n",
       "      <td>-0.0790</td>\n",
       "      <td>-0.0544</td>\n",
       "      <td>-0.0403</td>\n",
       "      <td>-0.0307</td>\n",
       "      <td>-2.6257</td>\n",
       "      <td>-3.3488</td>\n",
       "      <td>2.0462</td>\n",
       "      <td>0.7232</td>\n",
       "      <td>-15.0556</td>\n",
       "    </tr>\n",
       "    <tr>\n",
       "      <th>1</th>\n",
       "      <td>13.1689</td>\n",
       "      <td>4.5061e-03</td>\n",
       "      <td>14.9664</td>\n",
       "      <td>14.0045</td>\n",
       "      <td>13.4114</td>\n",
       "      <td>13.2363</td>\n",
       "      <td>13.1347</td>\n",
       "      <td>0.6931</td>\n",
       "      <td>1.2533</td>\n",
       "      <td>1.0</td>\n",
       "      <td>-0.0857</td>\n",
       "      <td>-0.0574</td>\n",
       "      <td>-0.0410</td>\n",
       "      <td>-0.0322</td>\n",
       "      <td>-0.0343</td>\n",
       "      <td>-0.7683</td>\n",
       "      <td>-0.8698</td>\n",
       "      <td>0.2767</td>\n",
       "      <td>0.1016</td>\n",
       "      <td>-0.3069</td>\n",
       "    </tr>\n",
       "    <tr>\n",
       "      <th>2</th>\n",
       "      <td>15.3500</td>\n",
       "      <td>4.7198e-04</td>\n",
       "      <td>16.6076</td>\n",
       "      <td>15.6866</td>\n",
       "      <td>15.4400</td>\n",
       "      <td>15.3217</td>\n",
       "      <td>15.2961</td>\n",
       "      <td>1.0986</td>\n",
       "      <td>1.0225</td>\n",
       "      <td>0.0</td>\n",
       "      <td>-0.1787</td>\n",
       "      <td>-0.1388</td>\n",
       "      <td>-0.0963</td>\n",
       "      <td>-0.0718</td>\n",
       "      <td>-0.0540</td>\n",
       "      <td>-0.3649</td>\n",
       "      <td>-0.3905</td>\n",
       "      <td>0.1440</td>\n",
       "      <td>0.0257</td>\n",
       "      <td>-0.9014</td>\n",
       "    </tr>\n",
       "    <tr>\n",
       "      <th>3</th>\n",
       "      <td>19.6346</td>\n",
       "      <td>5.8143e-06</td>\n",
       "      <td>25.3536</td>\n",
       "      <td>20.9947</td>\n",
       "      <td>20.0873</td>\n",
       "      <td>19.7947</td>\n",
       "      <td>19.5552</td>\n",
       "      <td>1.6094</td>\n",
       "      <td>1.2054</td>\n",
       "      <td>0.0</td>\n",
       "      <td>-0.3070</td>\n",
       "      <td>-0.1941</td>\n",
       "      <td>-0.1339</td>\n",
       "      <td>-0.1003</td>\n",
       "      <td>-0.0795</td>\n",
       "      <td>-1.2000</td>\n",
       "      <td>-1.4395</td>\n",
       "      <td>0.5321</td>\n",
       "      <td>0.2395</td>\n",
       "      <td>-1.3906</td>\n",
       "    </tr>\n",
       "    <tr>\n",
       "      <th>4</th>\n",
       "      <td>17.9826</td>\n",
       "      <td>-3.3247e-05</td>\n",
       "      <td>23.7714</td>\n",
       "      <td>20.4338</td>\n",
       "      <td>18.8630</td>\n",
       "      <td>18.1903</td>\n",
       "      <td>17.8759</td>\n",
       "      <td>2.6391</td>\n",
       "      <td>1.1939</td>\n",
       "      <td>0.0</td>\n",
       "      <td>-0.6820</td>\n",
       "      <td>-0.2653</td>\n",
       "      <td>-0.1794</td>\n",
       "      <td>-0.1339</td>\n",
       "      <td>-0.1067</td>\n",
       "      <td>-2.2436</td>\n",
       "      <td>-2.5579</td>\n",
       "      <td>0.9871</td>\n",
       "      <td>0.3144</td>\n",
       "      <td>-9.3609</td>\n",
       "    </tr>\n",
       "  </tbody>\n",
       "</table>\n",
       "</div>"
      ],
      "text/plain": [
       "          z    redshift  dered_u  dered_g  dered_r  dered_i  dered_z  \\\n",
       "id                                                                     \n",
       "0   16.9396 -8.1086e-05  23.1243  20.2578  18.9551  17.6321  16.9089   \n",
       "1   13.1689  4.5061e-03  14.9664  14.0045  13.4114  13.2363  13.1347   \n",
       "2   15.3500  4.7198e-04  16.6076  15.6866  15.4400  15.3217  15.2961   \n",
       "3   19.6346  5.8143e-06  25.3536  20.9947  20.0873  19.7947  19.5552   \n",
       "4   17.9826 -3.3247e-05  23.7714  20.4338  18.8630  18.1903  17.8759   \n",
       "\n",
       "    nObserve  airmass_u  class  d_dered_u  d_dered_g  d_dered_r  d_dered_i  \\\n",
       "id                                                                           \n",
       "0     2.9444     1.1898    0.0    -0.1397    -0.0790    -0.0544    -0.0403   \n",
       "1     0.6931     1.2533    1.0    -0.0857    -0.0574    -0.0410    -0.0322   \n",
       "2     1.0986     1.0225    0.0    -0.1787    -0.1388    -0.0963    -0.0718   \n",
       "3     1.6094     1.2054    0.0    -0.3070    -0.1941    -0.1339    -0.1003   \n",
       "4     2.6391     1.1939    0.0    -0.6820    -0.2653    -0.1794    -0.1339   \n",
       "\n",
       "    d_dered_z  d_dered_ig  d_dered_zg  d_dered_rz  d_dered_iz  d_obs_det  \n",
       "id                                                                        \n",
       "0     -0.0307     -2.6257     -3.3488      2.0462      0.7232   -15.0556  \n",
       "1     -0.0343     -0.7683     -0.8698      0.2767      0.1016    -0.3069  \n",
       "2     -0.0540     -0.3649     -0.3905      0.1440      0.0257    -0.9014  \n",
       "3     -0.0795     -1.2000     -1.4395      0.5321      0.2395    -1.3906  \n",
       "4     -0.1067     -2.2436     -2.5579      0.9871      0.3144    -9.3609  "
      ]
     },
     "execution_count": 8,
     "metadata": {},
     "output_type": "execute_result"
    }
   ],
   "source": [
    "df = pd.read_csv(feature_file, index_col=0)\n",
    "print(df.shape)\n",
    "df.head()"
   ]
  },
  {
   "cell_type": "code",
   "execution_count": 9,
   "id": "9c98a2bc",
   "metadata": {},
   "outputs": [
    {
     "name": "stdout",
     "output_type": "stream",
     "text": [
      "(320000,) (320000, 19) (80000, 19)\n"
     ]
    }
   ],
   "source": [
    "y = df[target_col].values[:320000]\n",
    "df.drop(target_col, axis=1, inplace=True)\n",
    "trn = df.iloc[:320000]\n",
    "tst = df.iloc[320000:]\n",
    "feature_name = df.columns.tolist()\n",
    "print(y.shape, trn.shape, tst.shape)"
   ]
  },
  {
   "cell_type": "markdown",
   "id": "ce7b3905",
   "metadata": {},
   "source": [
    "### Split Train/Test Data"
   ]
  },
  {
   "cell_type": "code",
   "execution_count": 10,
   "id": "9fdf4df3",
   "metadata": {},
   "outputs": [
    {
     "name": "stdout",
     "output_type": "stream",
     "text": [
      "(256000, 19) (64000, 19) (256000,) (64000,)\n"
     ]
    }
   ],
   "source": [
    "X_trn, X_val, y_trn, y_val = train_test_split(trn, y, test_size=.2, random_state=seed)\n",
    "print(X_trn.shape, X_val.shape, y_trn.shape, y_val.shape)"
   ]
  },
  {
   "cell_type": "markdown",
   "id": "22e06695",
   "metadata": {},
   "source": [
    "### Train LightGBM Classifier"
   ]
  },
  {
   "cell_type": "code",
   "execution_count": 11,
   "id": "bbd8fe5d",
   "metadata": {},
   "outputs": [
    {
     "name": "stdout",
     "output_type": "stream",
     "text": [
      "[1]\tvalid_0's multi_logloss: 0.860716\n",
      "Training until validation scores don't improve for 10 rounds\n",
      "[2]\tvalid_0's multi_logloss: 0.761919\n",
      "[3]\tvalid_0's multi_logloss: 0.676173\n",
      "[4]\tvalid_0's multi_logloss: 0.605736\n",
      "[5]\tvalid_0's multi_logloss: 0.548058\n",
      "[6]\tvalid_0's multi_logloss: 0.506503\n",
      "[7]\tvalid_0's multi_logloss: 0.468997\n",
      "[8]\tvalid_0's multi_logloss: 0.44093\n",
      "[9]\tvalid_0's multi_logloss: 0.413041\n",
      "[10]\tvalid_0's multi_logloss: 0.384297\n",
      "[11]\tvalid_0's multi_logloss: 0.360401\n",
      "[12]\tvalid_0's multi_logloss: 0.339973\n",
      "[13]\tvalid_0's multi_logloss: 0.321919\n",
      "[14]\tvalid_0's multi_logloss: 0.305075\n",
      "[15]\tvalid_0's multi_logloss: 0.290952\n",
      "[16]\tvalid_0's multi_logloss: 0.278614\n",
      "[17]\tvalid_0's multi_logloss: 0.267954\n",
      "[18]\tvalid_0's multi_logloss: 0.258144\n",
      "[19]\tvalid_0's multi_logloss: 0.249145\n",
      "[20]\tvalid_0's multi_logloss: 0.242363\n",
      "[21]\tvalid_0's multi_logloss: 0.235349\n",
      "[22]\tvalid_0's multi_logloss: 0.229003\n",
      "[23]\tvalid_0's multi_logloss: 0.223028\n",
      "[24]\tvalid_0's multi_logloss: 0.218856\n",
      "[25]\tvalid_0's multi_logloss: 0.214644\n",
      "[26]\tvalid_0's multi_logloss: 0.211278\n",
      "[27]\tvalid_0's multi_logloss: 0.207454\n",
      "[28]\tvalid_0's multi_logloss: 0.20391\n",
      "[29]\tvalid_0's multi_logloss: 0.200576\n",
      "[30]\tvalid_0's multi_logloss: 0.197991\n",
      "[31]\tvalid_0's multi_logloss: 0.195411\n",
      "[32]\tvalid_0's multi_logloss: 0.193436\n",
      "[33]\tvalid_0's multi_logloss: 0.191216\n",
      "[34]\tvalid_0's multi_logloss: 0.189213\n",
      "[35]\tvalid_0's multi_logloss: 0.187372\n",
      "[36]\tvalid_0's multi_logloss: 0.185986\n",
      "[37]\tvalid_0's multi_logloss: 0.184596\n",
      "[38]\tvalid_0's multi_logloss: 0.183186\n",
      "[39]\tvalid_0's multi_logloss: 0.182103\n",
      "[40]\tvalid_0's multi_logloss: 0.180782\n",
      "[41]\tvalid_0's multi_logloss: 0.179655\n",
      "[42]\tvalid_0's multi_logloss: 0.178637\n",
      "[43]\tvalid_0's multi_logloss: 0.177723\n",
      "[44]\tvalid_0's multi_logloss: 0.176878\n",
      "[45]\tvalid_0's multi_logloss: 0.176195\n",
      "[46]\tvalid_0's multi_logloss: 0.175556\n",
      "[47]\tvalid_0's multi_logloss: 0.174967\n",
      "[48]\tvalid_0's multi_logloss: 0.174335\n",
      "[49]\tvalid_0's multi_logloss: 0.173785\n",
      "[50]\tvalid_0's multi_logloss: 0.173273\n",
      "[51]\tvalid_0's multi_logloss: 0.172671\n",
      "[52]\tvalid_0's multi_logloss: 0.172329\n",
      "[53]\tvalid_0's multi_logloss: 0.171892\n",
      "[54]\tvalid_0's multi_logloss: 0.171574\n",
      "[55]\tvalid_0's multi_logloss: 0.171367\n",
      "[56]\tvalid_0's multi_logloss: 0.171095\n",
      "[57]\tvalid_0's multi_logloss: 0.170824\n",
      "[58]\tvalid_0's multi_logloss: 0.170446\n",
      "[59]\tvalid_0's multi_logloss: 0.170283\n",
      "[60]\tvalid_0's multi_logloss: 0.169969\n",
      "[61]\tvalid_0's multi_logloss: 0.169681\n",
      "[62]\tvalid_0's multi_logloss: 0.169458\n",
      "[63]\tvalid_0's multi_logloss: 0.169214\n",
      "[64]\tvalid_0's multi_logloss: 0.169078\n",
      "[65]\tvalid_0's multi_logloss: 0.168907\n",
      "[66]\tvalid_0's multi_logloss: 0.168685\n",
      "[67]\tvalid_0's multi_logloss: 0.168492\n",
      "[68]\tvalid_0's multi_logloss: 0.16868\n",
      "[69]\tvalid_0's multi_logloss: 0.168123\n",
      "[70]\tvalid_0's multi_logloss: 0.167985\n",
      "[71]\tvalid_0's multi_logloss: 0.167944\n",
      "[72]\tvalid_0's multi_logloss: 0.167724\n",
      "[73]\tvalid_0's multi_logloss: 0.167614\n",
      "[74]\tvalid_0's multi_logloss: 0.16749\n",
      "[75]\tvalid_0's multi_logloss: 0.167377\n",
      "[76]\tvalid_0's multi_logloss: 0.167325\n",
      "[77]\tvalid_0's multi_logloss: 0.167197\n",
      "[78]\tvalid_0's multi_logloss: 0.167416\n",
      "[79]\tvalid_0's multi_logloss: 0.16732\n",
      "[80]\tvalid_0's multi_logloss: 0.167203\n",
      "[81]\tvalid_0's multi_logloss: 0.167084\n",
      "[82]\tvalid_0's multi_logloss: 0.166941\n",
      "[83]\tvalid_0's multi_logloss: 0.166896\n",
      "[84]\tvalid_0's multi_logloss: 0.166786\n",
      "[85]\tvalid_0's multi_logloss: 0.166694\n",
      "[86]\tvalid_0's multi_logloss: 0.166636\n",
      "[87]\tvalid_0's multi_logloss: 0.16661\n",
      "[88]\tvalid_0's multi_logloss: 0.16655\n",
      "[89]\tvalid_0's multi_logloss: 0.166477\n",
      "[90]\tvalid_0's multi_logloss: 0.166616\n",
      "[91]\tvalid_0's multi_logloss: 0.166845\n",
      "[92]\tvalid_0's multi_logloss: 0.166752\n",
      "[93]\tvalid_0's multi_logloss: 0.166558\n",
      "[94]\tvalid_0's multi_logloss: 0.166483\n",
      "[95]\tvalid_0's multi_logloss: 0.166837\n",
      "[96]\tvalid_0's multi_logloss: 0.166347\n",
      "[97]\tvalid_0's multi_logloss: 0.166294\n",
      "[98]\tvalid_0's multi_logloss: 0.166254\n",
      "[99]\tvalid_0's multi_logloss: 0.166195\n",
      "[100]\tvalid_0's multi_logloss: 0.166106\n",
      "[101]\tvalid_0's multi_logloss: 0.166051\n",
      "[102]\tvalid_0's multi_logloss: 0.165982\n",
      "[103]\tvalid_0's multi_logloss: 0.165945\n",
      "[104]\tvalid_0's multi_logloss: 0.165899\n",
      "[105]\tvalid_0's multi_logloss: 0.16584\n",
      "[106]\tvalid_0's multi_logloss: 0.165781\n",
      "[107]\tvalid_0's multi_logloss: 0.165739\n",
      "[108]\tvalid_0's multi_logloss: 0.165707\n",
      "[109]\tvalid_0's multi_logloss: 0.165636\n",
      "[110]\tvalid_0's multi_logloss: 0.165659\n",
      "[111]\tvalid_0's multi_logloss: 0.165618\n",
      "[112]\tvalid_0's multi_logloss: 0.16559\n",
      "[113]\tvalid_0's multi_logloss: 0.165534\n",
      "[114]\tvalid_0's multi_logloss: 0.165527\n",
      "[115]\tvalid_0's multi_logloss: 0.165502\n",
      "[116]\tvalid_0's multi_logloss: 0.165514\n",
      "[117]\tvalid_0's multi_logloss: 0.16546\n",
      "[118]\tvalid_0's multi_logloss: 0.165394\n",
      "[119]\tvalid_0's multi_logloss: 0.165377\n",
      "[120]\tvalid_0's multi_logloss: 0.165298\n",
      "[121]\tvalid_0's multi_logloss: 0.16525\n",
      "[122]\tvalid_0's multi_logloss: 0.165231\n",
      "[123]\tvalid_0's multi_logloss: 0.165162\n",
      "[124]\tvalid_0's multi_logloss: 0.165137\n",
      "[125]\tvalid_0's multi_logloss: 0.165127\n",
      "[126]\tvalid_0's multi_logloss: 0.165182\n",
      "[127]\tvalid_0's multi_logloss: 0.165154\n",
      "[128]\tvalid_0's multi_logloss: 0.165144\n",
      "[129]\tvalid_0's multi_logloss: 0.165168\n",
      "[130]\tvalid_0's multi_logloss: 0.16515\n",
      "[131]\tvalid_0's multi_logloss: 0.165123\n",
      "[132]\tvalid_0's multi_logloss: 0.165101\n",
      "[133]\tvalid_0's multi_logloss: 0.165069\n",
      "[134]\tvalid_0's multi_logloss: 0.165052\n",
      "[135]\tvalid_0's multi_logloss: 0.165021\n",
      "[136]\tvalid_0's multi_logloss: 0.164991\n",
      "[137]\tvalid_0's multi_logloss: 0.16492\n",
      "[138]\tvalid_0's multi_logloss: 0.164873\n",
      "[139]\tvalid_0's multi_logloss: 0.164848\n",
      "[140]\tvalid_0's multi_logloss: 0.164846\n",
      "[141]\tvalid_0's multi_logloss: 0.16482\n",
      "[142]\tvalid_0's multi_logloss: 0.164823\n",
      "[143]\tvalid_0's multi_logloss: 0.16481\n",
      "[144]\tvalid_0's multi_logloss: 0.164839\n",
      "[145]\tvalid_0's multi_logloss: 0.164819\n",
      "[146]\tvalid_0's multi_logloss: 0.164825\n",
      "[147]\tvalid_0's multi_logloss: 0.164799\n",
      "[148]\tvalid_0's multi_logloss: 0.164793\n",
      "[149]\tvalid_0's multi_logloss: 0.164781\n",
      "[150]\tvalid_0's multi_logloss: 0.164775\n",
      "[151]\tvalid_0's multi_logloss: 0.164748\n",
      "[152]\tvalid_0's multi_logloss: 0.164679\n",
      "[153]\tvalid_0's multi_logloss: 0.164623\n",
      "[154]\tvalid_0's multi_logloss: 0.164647\n",
      "[155]\tvalid_0's multi_logloss: 0.164644\n",
      "[156]\tvalid_0's multi_logloss: 0.164618\n",
      "[157]\tvalid_0's multi_logloss: 0.164638\n",
      "[158]\tvalid_0's multi_logloss: 0.164594\n",
      "[159]\tvalid_0's multi_logloss: 0.164526\n",
      "[160]\tvalid_0's multi_logloss: 0.164521\n",
      "[161]\tvalid_0's multi_logloss: 0.164477\n",
      "[162]\tvalid_0's multi_logloss: 0.164496\n",
      "[163]\tvalid_0's multi_logloss: 0.164447\n",
      "[164]\tvalid_0's multi_logloss: 0.164399\n",
      "[165]\tvalid_0's multi_logloss: 0.164422\n",
      "[166]\tvalid_0's multi_logloss: 0.164418\n",
      "[167]\tvalid_0's multi_logloss: 0.164415\n",
      "[168]\tvalid_0's multi_logloss: 0.164423\n",
      "[169]\tvalid_0's multi_logloss: 0.16445\n",
      "[170]\tvalid_0's multi_logloss: 0.164437\n",
      "[171]\tvalid_0's multi_logloss: 0.164499\n",
      "[172]\tvalid_0's multi_logloss: 0.164585\n",
      "[173]\tvalid_0's multi_logloss: 0.1646\n",
      "[174]\tvalid_0's multi_logloss: 0.164571\n",
      "Early stopping, best iteration is:\n",
      "[164]\tvalid_0's multi_logloss: 0.164399\n"
     ]
    }
   ],
   "source": [
    "clf = lgb.LGBMClassifier(objective='multiclass',\n",
    "                         n_estimators=1000,\n",
    "                         num_leaves=64,\n",
    "                         learning_rate=0.1,\n",
    "                         min_child_samples=10,\n",
    "                         subsample=.5,\n",
    "                         subsample_freq=1,\n",
    "                         colsample_bytree=.8,\n",
    "                         random_state=seed,\n",
    "                         n_jobs=-1)\n",
    "clf.fit(X_trn, y_trn,\n",
    "        eval_set=[(X_val, y_val)],\n",
    "        eval_metric='multiclass',\n",
    "        early_stopping_rounds=10)\n",
    "p_val = clf.predict(X_val)\n",
    "p_tst = clf.predict(tst)"
   ]
  },
  {
   "cell_type": "code",
   "execution_count": 12,
   "id": "6d3fc681",
   "metadata": {},
   "outputs": [
    {
     "name": "stdout",
     "output_type": "stream",
     "text": [
      "93.1609%\n"
     ]
    }
   ],
   "source": [
    "print(f'{accuracy_score(y_val, p_val) * 100:.4f}%')"
   ]
  },
  {
   "cell_type": "markdown",
   "id": "2b5c38ed",
   "metadata": {},
   "source": [
    "### Visualize Feature Importance"
   ]
  },
  {
   "cell_type": "code",
   "execution_count": 13,
   "id": "97a40ecb",
   "metadata": {
    "scrolled": false
   },
   "outputs": [
    {
     "data": {
      "text/plain": [
       "<AxesSubplot:ylabel='feature'>"
      ]
     },
     "execution_count": 13,
     "metadata": {},
     "output_type": "execute_result"
    },
    {
     "data": {
      "image/png": "[encoded data removed]",
      "text/plain": [
       "<Figure size 1152x576 with 1 Axes>"
      ]
     },
     "metadata": {},
     "output_type": "display_data"
    }
   ],
   "source": [
    "imp = pd.DataFrame({'feature': trn.columns, 'importance': clf.feature_importances_})\n",
    "imp = imp.sort_values('importance').set_index('feature')\n",
    "imp.plot(kind='barh')"
   ]
  },
  {
   "cell_type": "markdown",
   "id": "ed534a85",
   "metadata": {},
   "source": [
    "### Create Submission File"
   ]
  },
  {
   "cell_type": "code",
   "execution_count": 15,
   "id": "7732f6cb",
   "metadata": {},
   "outputs": [
    {
     "name": "stdout",
     "output_type": "stream",
     "text": [
      "(80000, 1)\n"
     ]
    },
    {
     "data": {
      "text/html": [
       "<div>\n",
       "<style scoped>\n",
       "    .dataframe tbody tr th:only-of-type {\n",
       "        vertical-align: middle;\n",
       "    }\n",
       "\n",
       "    .dataframe tbody tr th {\n",
       "        vertical-align: top;\n",
       "    }\n",
       "\n",
       "    .dataframe thead th {\n",
       "        text-align: right;\n",
       "    }\n",
       "</style>\n",
       "<table border=\"1\" class=\"dataframe\">\n",
       "  <thead>\n",
       "    <tr style=\"text-align: right;\">\n",
       "      <th></th>\n",
       "      <th>class</th>\n",
       "    </tr>\n",
       "    <tr>\n",
       "      <th>id</th>\n",
       "      <th></th>\n",
       "    </tr>\n",
       "  </thead>\n",
       "  <tbody>\n",
       "    <tr>\n",
       "      <th>320000</th>\n",
       "      <td>0</td>\n",
       "    </tr>\n",
       "    <tr>\n",
       "      <th>320001</th>\n",
       "      <td>0</td>\n",
       "    </tr>\n",
       "    <tr>\n",
       "      <th>320002</th>\n",
       "      <td>0</td>\n",
       "    </tr>\n",
       "    <tr>\n",
       "      <th>320003</th>\n",
       "      <td>0</td>\n",
       "    </tr>\n",
       "    <tr>\n",
       "      <th>320004</th>\n",
       "      <td>0</td>\n",
       "    </tr>\n",
       "  </tbody>\n",
       "</table>\n",
       "</div>"
      ],
      "text/plain": [
       "        class\n",
       "id           \n",
       "320000      0\n",
       "320001      0\n",
       "320002      0\n",
       "320003      0\n",
       "320004      0"
      ]
     },
     "execution_count": 15,
     "metadata": {},
     "output_type": "execute_result"
    }
   ],
   "source": [
    "sub = pd.read_csv(sample_file, index_col=0)\n",
    "print(sub.shape)\n",
    "sub.head()"
   ]
  },
  {
   "cell_type": "code",
   "execution_count": 16,
   "id": "aee5049e",
   "metadata": {},
   "outputs": [
    {
     "data": {
      "text/html": [
       "<div>\n",
       "<style scoped>\n",
       "    .dataframe tbody tr th:only-of-type {\n",
       "        vertical-align: middle;\n",
       "    }\n",
       "\n",
       "    .dataframe tbody tr th {\n",
       "        vertical-align: top;\n",
       "    }\n",
       "\n",
       "    .dataframe thead th {\n",
       "        text-align: right;\n",
       "    }\n",
       "</style>\n",
       "<table border=\"1\" class=\"dataframe\">\n",
       "  <thead>\n",
       "    <tr style=\"text-align: right;\">\n",
       "      <th></th>\n",
       "      <th>class</th>\n",
       "    </tr>\n",
       "    <tr>\n",
       "      <th>id</th>\n",
       "      <th></th>\n",
       "    </tr>\n",
       "  </thead>\n",
       "  <tbody>\n",
       "    <tr>\n",
       "      <th>320000</th>\n",
       "      <td>2.0</td>\n",
       "    </tr>\n",
       "    <tr>\n",
       "      <th>320001</th>\n",
       "      <td>0.0</td>\n",
       "    </tr>\n",
       "    <tr>\n",
       "      <th>320002</th>\n",
       "      <td>2.0</td>\n",
       "    </tr>\n",
       "    <tr>\n",
       "      <th>320003</th>\n",
       "      <td>0.0</td>\n",
       "    </tr>\n",
       "    <tr>\n",
       "      <th>320004</th>\n",
       "      <td>2.0</td>\n",
       "    </tr>\n",
       "  </tbody>\n",
       "</table>\n",
       "</div>"
      ],
      "text/plain": [
       "        class\n",
       "id           \n",
       "320000    2.0\n",
       "320001    0.0\n",
       "320002    2.0\n",
       "320003    0.0\n",
       "320004    2.0"
      ]
     },
     "execution_count": 16,
     "metadata": {},
     "output_type": "execute_result"
    }
   ],
   "source": [
    "sub[target_col] = p_tst\n",
    "sub.head()"
   ]
  },
  {
   "cell_type": "code",
   "execution_count": 18,
   "id": "f547d674",
   "metadata": {},
   "outputs": [
    {
     "data": {
      "text/plain": [
       "2.0    41035\n",
       "0.0    29980\n",
       "1.0     8985\n",
       "Name: class, dtype: int64"
      ]
     },
     "execution_count": 18,
     "metadata": {},
     "output_type": "execute_result"
    }
   ],
   "source": [
    "sub[target_col].value_counts()"
   ]
  },
  {
   "cell_type": "markdown",
   "id": "39897882",
   "metadata": {},
   "source": [
    "### Saving Submission File"
   ]
  },
  {
   "cell_type": "code",
   "execution_count": 19,
   "id": "fca1f0c2",
   "metadata": {},
   "outputs": [],
   "source": [
    "sub.to_csv(sub_file)"
   ]
  },
  {
   "cell_type": "code",
   "execution_count": null,
   "id": "36177670",
   "metadata": {},
   "outputs": [],
   "source": []
  }
 ],
 "metadata": {
  "kernelspec": {
   "display_name": "py37",
   "language": "python",
   "name": "py37"
  },
  "language_info": {
   "codemirror_mode": {
    "name": "ipython",
    "version": 3
   },
   "file_extension": ".py",
   "mimetype": "text/x-python",
   "name": "python",
   "nbconvert_exporter": "python",
   "pygments_lexer": "ipython3",
   "version": "3.7.11"
  }
 },
 "nbformat": 4,
 "nbformat_minor": 5
}
