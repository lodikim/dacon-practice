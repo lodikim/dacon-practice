{
 "cells": [
  {
   "cell_type": "markdown",
   "id": "697d6054",
   "metadata": {},
   "source": [
    "# 08-Stacking (LGB)"
   ]
  },
  {
   "cell_type": "markdown",
   "id": "97d886ac",
   "metadata": {},
   "source": [
    "### Imports"
   ]
  },
  {
   "cell_type": "code",
   "execution_count": 1,
   "id": "6fcb76e4",
   "metadata": {},
   "outputs": [],
   "source": [
    "import lightgbm as lgb\n",
    "from matplotlib import pyplot as plt\n",
    "from matplotlib import rcParams\n",
    "import numpy as np\n",
    "from pathlib import Path\n",
    "import pandas as pd\n",
    "from sklearn.metrics import accuracy_score\n",
    "from sklearn.model_selection import StratifiedKFold\n",
    "import seaborn as sns"
   ]
  },
  {
   "cell_type": "code",
   "execution_count": 2,
   "id": "8d55561e",
   "metadata": {},
   "outputs": [],
   "source": [
    "rcParams['figure.figsize'] = (16, 8)\n",
    "plt.style.use('fivethirtyeight')\n",
    "pd.set_option('max_columns', 100)\n",
    "pd.set_option(\"display.precision\", 4)"
   ]
  },
  {
   "cell_type": "markdown",
   "id": "b541c7e8",
   "metadata": {},
   "source": [
    "### Load Train Data"
   ]
  },
  {
   "cell_type": "code",
   "execution_count": 3,
   "id": "2dbbda7a",
   "metadata": {},
   "outputs": [],
   "source": [
    "data_dir = Path('../../dacon-inputs/dankook/input')\n",
    "sub_dir = Path('../../dacon-inputs/dankook/sub')\n",
    "feature_dir = Path('../../dacon-inputs/dankook/feature')\n",
    "val_dir = Path('../../dacon-inputs/dankook/val')\n",
    "tst_dir = Path('../../dacon-inputs/dankook/tst')\n",
    "\n",
    "trn_file = data_dir / 'train.csv'\n",
    "tst_file = data_dir / 'test.csv'\n",
    "sample_file = data_dir / 'sample_submission.csv'\n",
    "\n",
    "target_col = 'class'\n",
    "n_fold = 5\n",
    "n_class = 3 # b/c class is 0, 1, 2?\n",
    "seed = 42"
   ]
  },
  {
   "cell_type": "code",
   "execution_count": 4,
   "id": "dd30b552",
   "metadata": {},
   "outputs": [
    {
     "data": {
      "text/plain": [
       "WindowsPath('C:/Users/bryan/dacon-inputs/dankook/input')"
      ]
     },
     "execution_count": 4,
     "metadata": {},
     "output_type": "execute_result"
    }
   ],
   "source": [
    "data_dir.resolve()"
   ]
  },
  {
   "cell_type": "code",
   "execution_count": 5,
   "id": "71eff7be",
   "metadata": {},
   "outputs": [],
   "source": [
    "algo_name = 'lgbcv'\n",
    "feature_name = 'stacking'\n",
    "model_name = f'{algo_name}_{feature_name}'\n",
    "\n",
    "feature_file = feature_dir / f'{feature_name}.csv'\n",
    "p_val_file = val_dir / f'{model_name}.val.csv'\n",
    "p_tst_file = tst_dir / f'{model_name}.tst.csv'\n",
    "sub_file = sub_dir / f'{model_name}.csv'"
   ]
  },
  {
   "cell_type": "markdown",
   "id": "fa084158",
   "metadata": {},
   "source": [
    "### Create Stacking Features"
   ]
  },
  {
   "cell_type": "code",
   "execution_count": 6,
   "id": "eac8fbfd",
   "metadata": {},
   "outputs": [
    {
     "data": {
      "text/plain": [
       "['lrcv_polyfeature_class0',\n",
       " 'lrcv_polyfeature_class1',\n",
       " 'lrcv_polyfeature_class2',\n",
       " 'rfcv_feature_class0',\n",
       " 'rfcv_feature_class1',\n",
       " 'rfcv_feature_class2',\n",
       " 'lgbcv_feature_class0',\n",
       " 'lgbcv_feature_class1',\n",
       " 'lgbcv_feature_class2']"
      ]
     },
     "execution_count": 6,
     "metadata": {},
     "output_type": "execute_result"
    }
   ],
   "source": [
    "model_names = ['lrcv_polyfeature', 'rfcv_feature', 'lgbcv_feature']\n",
    "trn = []\n",
    "tst = []\n",
    "feature_names = []\n",
    "for model in model_names:\n",
    "    trn.append(np.loadtxt(val_dir / f'{model}.val.csv', delimiter=','))\n",
    "    tst.append(np.loadtxt(tst_dir / f'{model}.tst.csv', delimiter=','))\n",
    "    feature_names += [f'{model}_class0', f'{model}_class1', f'{model}_class2']\n",
    "    \n",
    "trn = np.hstack(trn)\n",
    "tst = np.hstack(tst)\n",
    "feature_names"
   ]
  },
  {
   "cell_type": "code",
   "execution_count": 7,
   "id": "9c98a2bc",
   "metadata": {},
   "outputs": [
    {
     "data": {
      "text/plain": [
       "(320000,)"
      ]
     },
     "execution_count": 7,
     "metadata": {},
     "output_type": "execute_result"
    }
   ],
   "source": [
    "y = pd.read_csv(trn_file, index_col=0, usecols=['id', target_col]).values.flatten() # 'id' becomes index_col\n",
    "y.shape"
   ]
  },
  {
   "cell_type": "markdown",
   "id": "ce7b3905",
   "metadata": {},
   "source": [
    "### Stratified K-Fold Cross Validation"
   ]
  },
  {
   "cell_type": "code",
   "execution_count": 8,
   "id": "9fdf4df3",
   "metadata": {},
   "outputs": [],
   "source": [
    "cv = StratifiedKFold(n_splits=n_fold, shuffle=True, random_state=seed)"
   ]
  },
  {
   "cell_type": "markdown",
   "id": "22e06695",
   "metadata": {},
   "source": [
    "### Train LightGBM Classifier"
   ]
  },
  {
   "cell_type": "code",
   "execution_count": 9,
   "id": "bbd8fe5d",
   "metadata": {
    "scrolled": true
   },
   "outputs": [
    {
     "name": "stdout",
     "output_type": "stream",
     "text": [
      "training model for CV #1\n",
      "[1]\tvalid_0's multi_logloss: 0.835207\n",
      "Training until validation scores don't improve for 10 rounds\n",
      "[2]\tvalid_0's multi_logloss: 0.723034\n",
      "[3]\tvalid_0's multi_logloss: 0.634786\n",
      "[4]\tvalid_0's multi_logloss: 0.563302\n",
      "[5]\tvalid_0's multi_logloss: 0.504575\n",
      "[6]\tvalid_0's multi_logloss: 0.455928\n",
      "[7]\tvalid_0's multi_logloss: 0.415089\n",
      "[8]\tvalid_0's multi_logloss: 0.380659\n",
      "[9]\tvalid_0's multi_logloss: 0.351376\n",
      "[10]\tvalid_0's multi_logloss: 0.326444\n",
      "[11]\tvalid_0's multi_logloss: 0.305138\n",
      "[12]\tvalid_0's multi_logloss: 0.286825\n",
      "[13]\tvalid_0's multi_logloss: 0.271035\n",
      "[14]\tvalid_0's multi_logloss: 0.257415\n",
      "[15]\tvalid_0's multi_logloss: 0.245674\n",
      "[16]\tvalid_0's multi_logloss: 0.235494\n",
      "[17]\tvalid_0's multi_logloss: 0.2267\n",
      "[18]\tvalid_0's multi_logloss: 0.218981\n",
      "[19]\tvalid_0's multi_logloss: 0.21228\n",
      "[20]\tvalid_0's multi_logloss: 0.206434\n",
      "[21]\tvalid_0's multi_logloss: 0.201379\n",
      "[22]\tvalid_0's multi_logloss: 0.196956\n",
      "[23]\tvalid_0's multi_logloss: 0.193018\n",
      "[24]\tvalid_0's multi_logloss: 0.189616\n",
      "[25]\tvalid_0's multi_logloss: 0.18667\n",
      "[26]\tvalid_0's multi_logloss: 0.183983\n",
      "[27]\tvalid_0's multi_logloss: 0.181649\n",
      "[28]\tvalid_0's multi_logloss: 0.17958\n",
      "[29]\tvalid_0's multi_logloss: 0.177761\n",
      "[30]\tvalid_0's multi_logloss: 0.176132\n",
      "[31]\tvalid_0's multi_logloss: 0.174677\n",
      "[32]\tvalid_0's multi_logloss: 0.173385\n",
      "[33]\tvalid_0's multi_logloss: 0.172291\n",
      "[34]\tvalid_0's multi_logloss: 0.171335\n",
      "[35]\tvalid_0's multi_logloss: 0.170401\n",
      "[36]\tvalid_0's multi_logloss: 0.169592\n",
      "[37]\tvalid_0's multi_logloss: 0.168821\n",
      "[38]\tvalid_0's multi_logloss: 0.168158\n",
      "[39]\tvalid_0's multi_logloss: 0.167612\n",
      "[40]\tvalid_0's multi_logloss: 0.167063\n",
      "[41]\tvalid_0's multi_logloss: 0.166573\n",
      "[42]\tvalid_0's multi_logloss: 0.166106\n",
      "[43]\tvalid_0's multi_logloss: 0.166049\n",
      "[44]\tvalid_0's multi_logloss: 0.165605\n",
      "[45]\tvalid_0's multi_logloss: 0.165373\n",
      "[46]\tvalid_0's multi_logloss: 0.165016\n",
      "[47]\tvalid_0's multi_logloss: 0.164752\n",
      "[48]\tvalid_0's multi_logloss: 0.164871\n",
      "[49]\tvalid_0's multi_logloss: 0.164637\n",
      "[50]\tvalid_0's multi_logloss: 0.164376\n",
      "[51]\tvalid_0's multi_logloss: 0.16419\n",
      "[52]\tvalid_0's multi_logloss: 0.164043\n",
      "[53]\tvalid_0's multi_logloss: 0.163886\n",
      "[54]\tvalid_0's multi_logloss: 0.163713\n",
      "[55]\tvalid_0's multi_logloss: 0.163598\n",
      "[56]\tvalid_0's multi_logloss: 0.1635\n",
      "[57]\tvalid_0's multi_logloss: 0.163428\n",
      "[58]\tvalid_0's multi_logloss: 0.163359\n",
      "[59]\tvalid_0's multi_logloss: 0.163653\n",
      "[60]\tvalid_0's multi_logloss: 0.16355\n",
      "[61]\tvalid_0's multi_logloss: 0.163266\n",
      "[62]\tvalid_0's multi_logloss: 0.165181\n",
      "[63]\tvalid_0's multi_logloss: 0.164945\n",
      "[64]\tvalid_0's multi_logloss: 0.164881\n",
      "[65]\tvalid_0's multi_logloss: 0.164138\n",
      "[66]\tvalid_0's multi_logloss: 0.164113\n",
      "[67]\tvalid_0's multi_logloss: 0.164035\n",
      "[68]\tvalid_0's multi_logloss: 0.164049\n",
      "[69]\tvalid_0's multi_logloss: 0.164031\n",
      "[70]\tvalid_0's multi_logloss: 0.16403\n",
      "[71]\tvalid_0's multi_logloss: 0.163979\n",
      "Early stopping, best iteration is:\n",
      "[61]\tvalid_0's multi_logloss: 0.163266\n",
      "training model for CV #2\n",
      "[1]\tvalid_0's multi_logloss: 0.836918\n",
      "Training until validation scores don't improve for 10 rounds\n",
      "[2]\tvalid_0's multi_logloss: 0.725808\n",
      "[3]\tvalid_0's multi_logloss: 0.638233\n",
      "[4]\tvalid_0's multi_logloss: 0.567428\n",
      "[5]\tvalid_0's multi_logloss: 0.509199\n",
      "[6]\tvalid_0's multi_logloss: 0.460835\n",
      "[7]\tvalid_0's multi_logloss: 0.4202\n",
      "[8]\tvalid_0's multi_logloss: 0.385784\n",
      "[9]\tvalid_0's multi_logloss: 0.356445\n",
      "[10]\tvalid_0's multi_logloss: 0.331521\n",
      "[11]\tvalid_0's multi_logloss: 0.310225\n",
      "[12]\tvalid_0's multi_logloss: 0.291879\n",
      "[13]\tvalid_0's multi_logloss: 0.276077\n",
      "[14]\tvalid_0's multi_logloss: 0.262313\n",
      "[15]\tvalid_0's multi_logloss: 0.250485\n",
      "[16]\tvalid_0's multi_logloss: 0.240281\n",
      "[17]\tvalid_0's multi_logloss: 0.231326\n",
      "[18]\tvalid_0's multi_logloss: 0.223569\n",
      "[19]\tvalid_0's multi_logloss: 0.216805\n",
      "[20]\tvalid_0's multi_logloss: 0.210837\n",
      "[21]\tvalid_0's multi_logloss: 0.205581\n",
      "[22]\tvalid_0's multi_logloss: 0.200997\n",
      "[23]\tvalid_0's multi_logloss: 0.197014\n",
      "[24]\tvalid_0's multi_logloss: 0.193452\n",
      "[25]\tvalid_0's multi_logloss: 0.190385\n",
      "[26]\tvalid_0's multi_logloss: 0.18765\n",
      "[27]\tvalid_0's multi_logloss: 0.185253\n",
      "[28]\tvalid_0's multi_logloss: 0.183063\n",
      "[29]\tvalid_0's multi_logloss: 0.181173\n",
      "[30]\tvalid_0's multi_logloss: 0.179459\n",
      "[31]\tvalid_0's multi_logloss: 0.177975\n",
      "[32]\tvalid_0's multi_logloss: 0.176634\n",
      "[33]\tvalid_0's multi_logloss: 0.175494\n",
      "[34]\tvalid_0's multi_logloss: 0.174446\n",
      "[35]\tvalid_0's multi_logloss: 0.173518\n",
      "[36]\tvalid_0's multi_logloss: 0.172672\n",
      "[37]\tvalid_0's multi_logloss: 0.171886\n",
      "[38]\tvalid_0's multi_logloss: 0.171275\n",
      "[39]\tvalid_0's multi_logloss: 0.170642\n",
      "[40]\tvalid_0's multi_logloss: 0.170052\n",
      "[41]\tvalid_0's multi_logloss: 0.169564\n",
      "[42]\tvalid_0's multi_logloss: 0.169113\n",
      "[43]\tvalid_0's multi_logloss: 0.16881\n",
      "[44]\tvalid_0's multi_logloss: 0.16845\n",
      "[45]\tvalid_0's multi_logloss: 0.168036\n",
      "[46]\tvalid_0's multi_logloss: 0.16774\n",
      "[47]\tvalid_0's multi_logloss: 0.167446\n",
      "[48]\tvalid_0's multi_logloss: 0.167258\n",
      "[49]\tvalid_0's multi_logloss: 0.167059\n",
      "[50]\tvalid_0's multi_logloss: 0.166848\n",
      "[51]\tvalid_0's multi_logloss: 0.166697\n",
      "[52]\tvalid_0's multi_logloss: 0.166502\n",
      "[53]\tvalid_0's multi_logloss: 0.166361\n",
      "[54]\tvalid_0's multi_logloss: 0.16623\n",
      "[55]\tvalid_0's multi_logloss: 0.166326\n",
      "[56]\tvalid_0's multi_logloss: 0.175062\n",
      "[57]\tvalid_0's multi_logloss: 0.165842\n",
      "[58]\tvalid_0's multi_logloss: 0.165763\n",
      "[59]\tvalid_0's multi_logloss: 0.166157\n",
      "[60]\tvalid_0's multi_logloss: 0.169901\n",
      "[61]\tvalid_0's multi_logloss: 0.165931\n",
      "[62]\tvalid_0's multi_logloss: 0.165815\n",
      "[63]\tvalid_0's multi_logloss: 0.165688\n",
      "[64]\tvalid_0's multi_logloss: 0.165589\n",
      "[65]\tvalid_0's multi_logloss: 0.165484\n",
      "[66]\tvalid_0's multi_logloss: 0.165437\n",
      "[67]\tvalid_0's multi_logloss: 0.16535\n",
      "[68]\tvalid_0's multi_logloss: 0.165399\n",
      "[69]\tvalid_0's multi_logloss: 0.16532\n",
      "[70]\tvalid_0's multi_logloss: 0.165269\n",
      "[71]\tvalid_0's multi_logloss: 0.165249\n",
      "[72]\tvalid_0's multi_logloss: 0.166854\n",
      "[73]\tvalid_0's multi_logloss: 0.166809\n",
      "[74]\tvalid_0's multi_logloss: 0.165187\n",
      "[75]\tvalid_0's multi_logloss: 0.165204\n",
      "[76]\tvalid_0's multi_logloss: 0.166415\n",
      "[77]\tvalid_0's multi_logloss: 0.165585\n",
      "[78]\tvalid_0's multi_logloss: 0.165535\n",
      "[79]\tvalid_0's multi_logloss: 0.170905\n",
      "[80]\tvalid_0's multi_logloss: 0.165475\n",
      "[81]\tvalid_0's multi_logloss: 0.180084\n",
      "[82]\tvalid_0's multi_logloss: 0.185692\n",
      "[83]\tvalid_0's multi_logloss: 0.182637\n",
      "[84]\tvalid_0's multi_logloss: 0.188332\n",
      "Early stopping, best iteration is:\n",
      "[74]\tvalid_0's multi_logloss: 0.165187\n",
      "training model for CV #3\n",
      "[1]\tvalid_0's multi_logloss: 0.835724\n",
      "Training until validation scores don't improve for 10 rounds\n",
      "[2]\tvalid_0's multi_logloss: 0.723866\n",
      "[3]\tvalid_0's multi_logloss: 0.635807\n",
      "[4]\tvalid_0's multi_logloss: 0.56479\n",
      "[5]\tvalid_0's multi_logloss: 0.506433\n",
      "[6]\tvalid_0's multi_logloss: 0.457929\n",
      "[7]\tvalid_0's multi_logloss: 0.417229\n",
      "[8]\tvalid_0's multi_logloss: 0.382882\n",
      "[9]\tvalid_0's multi_logloss: 0.353872\n",
      "[10]\tvalid_0's multi_logloss: 0.329012\n",
      "[11]\tvalid_0's multi_logloss: 0.307732\n",
      "[12]\tvalid_0's multi_logloss: 0.289495\n",
      "[13]\tvalid_0's multi_logloss: 0.273795\n",
      "[14]\tvalid_0's multi_logloss: 0.260253\n",
      "[15]\tvalid_0's multi_logloss: 0.248576\n",
      "[16]\tvalid_0's multi_logloss: 0.23839\n",
      "[17]\tvalid_0's multi_logloss: 0.229543\n",
      "[18]\tvalid_0's multi_logloss: 0.221872\n",
      "[19]\tvalid_0's multi_logloss: 0.215231\n",
      "[20]\tvalid_0's multi_logloss: 0.209346\n",
      "[21]\tvalid_0's multi_logloss: 0.20429\n",
      "[22]\tvalid_0's multi_logloss: 0.199834\n",
      "[23]\tvalid_0's multi_logloss: 0.195894\n",
      "[24]\tvalid_0's multi_logloss: 0.192442\n",
      "[25]\tvalid_0's multi_logloss: 0.189389\n",
      "[26]\tvalid_0's multi_logloss: 0.186713\n",
      "[27]\tvalid_0's multi_logloss: 0.184303\n",
      "[28]\tvalid_0's multi_logloss: 0.182229\n",
      "[29]\tvalid_0's multi_logloss: 0.180324\n",
      "[30]\tvalid_0's multi_logloss: 0.178708\n",
      "[31]\tvalid_0's multi_logloss: 0.17724\n",
      "[32]\tvalid_0's multi_logloss: 0.175956\n",
      "[33]\tvalid_0's multi_logloss: 0.174823\n",
      "[34]\tvalid_0's multi_logloss: 0.173819\n",
      "[35]\tvalid_0's multi_logloss: 0.17286\n",
      "[36]\tvalid_0's multi_logloss: 0.172034\n",
      "[37]\tvalid_0's multi_logloss: 0.171343\n",
      "[38]\tvalid_0's multi_logloss: 0.170679\n",
      "[39]\tvalid_0's multi_logloss: 0.170059\n",
      "[40]\tvalid_0's multi_logloss: 0.169495\n",
      "[41]\tvalid_0's multi_logloss: 0.16899\n",
      "[42]\tvalid_0's multi_logloss: 0.168606\n",
      "[43]\tvalid_0's multi_logloss: 0.168204\n",
      "[44]\tvalid_0's multi_logloss: 0.167856\n",
      "[45]\tvalid_0's multi_logloss: 0.167468\n",
      "[46]\tvalid_0's multi_logloss: 0.16731\n",
      "[47]\tvalid_0's multi_logloss: 0.167043\n"
     ]
    },
    {
     "name": "stdout",
     "output_type": "stream",
     "text": [
      "[48]\tvalid_0's multi_logloss: 0.166768\n",
      "[49]\tvalid_0's multi_logloss: 0.16658\n",
      "[50]\tvalid_0's multi_logloss: 0.168567\n",
      "[51]\tvalid_0's multi_logloss: 0.16636\n",
      "[52]\tvalid_0's multi_logloss: 0.166457\n",
      "[53]\tvalid_0's multi_logloss: 0.166139\n",
      "[54]\tvalid_0's multi_logloss: 0.165994\n",
      "[55]\tvalid_0's multi_logloss: 0.165851\n",
      "[56]\tvalid_0's multi_logloss: 0.165764\n",
      "[57]\tvalid_0's multi_logloss: 0.165741\n",
      "[58]\tvalid_0's multi_logloss: 0.16745\n",
      "[59]\tvalid_0's multi_logloss: 0.16556\n",
      "[60]\tvalid_0's multi_logloss: 0.165501\n",
      "[61]\tvalid_0's multi_logloss: 0.16542\n",
      "[62]\tvalid_0's multi_logloss: 0.168617\n",
      "[63]\tvalid_0's multi_logloss: 0.17281\n",
      "[64]\tvalid_0's multi_logloss: 0.17109\n",
      "[65]\tvalid_0's multi_logloss: 0.174909\n",
      "[66]\tvalid_0's multi_logloss: 0.169701\n",
      "[67]\tvalid_0's multi_logloss: 0.169637\n",
      "[68]\tvalid_0's multi_logloss: 0.176076\n",
      "[69]\tvalid_0's multi_logloss: 0.171767\n",
      "[70]\tvalid_0's multi_logloss: 0.186081\n",
      "[71]\tvalid_0's multi_logloss: 0.191639\n",
      "Early stopping, best iteration is:\n",
      "[61]\tvalid_0's multi_logloss: 0.16542\n",
      "training model for CV #4\n",
      "[1]\tvalid_0's multi_logloss: 0.83559\n",
      "Training until validation scores don't improve for 10 rounds\n",
      "[2]\tvalid_0's multi_logloss: 0.723664\n",
      "[3]\tvalid_0's multi_logloss: 0.635592\n",
      "[4]\tvalid_0's multi_logloss: 0.564581\n",
      "[5]\tvalid_0's multi_logloss: 0.506063\n",
      "[6]\tvalid_0's multi_logloss: 0.457548\n",
      "[7]\tvalid_0's multi_logloss: 0.416856\n",
      "[8]\tvalid_0's multi_logloss: 0.382517\n",
      "[9]\tvalid_0's multi_logloss: 0.35332\n",
      "[10]\tvalid_0's multi_logloss: 0.328448\n",
      "[11]\tvalid_0's multi_logloss: 0.307181\n",
      "[12]\tvalid_0's multi_logloss: 0.288936\n",
      "[13]\tvalid_0's multi_logloss: 0.273288\n",
      "[14]\tvalid_0's multi_logloss: 0.259681\n",
      "[15]\tvalid_0's multi_logloss: 0.248037\n",
      "[16]\tvalid_0's multi_logloss: 0.237882\n",
      "[17]\tvalid_0's multi_logloss: 0.229093\n",
      "[18]\tvalid_0's multi_logloss: 0.221397\n",
      "[19]\tvalid_0's multi_logloss: 0.214678\n",
      "[20]\tvalid_0's multi_logloss: 0.208841\n",
      "[21]\tvalid_0's multi_logloss: 0.20374\n",
      "[22]\tvalid_0's multi_logloss: 0.199235\n",
      "[23]\tvalid_0's multi_logloss: 0.195334\n",
      "[24]\tvalid_0's multi_logloss: 0.191861\n",
      "[25]\tvalid_0's multi_logloss: 0.188861\n",
      "[26]\tvalid_0's multi_logloss: 0.186162\n",
      "[27]\tvalid_0's multi_logloss: 0.183837\n",
      "[28]\tvalid_0's multi_logloss: 0.181804\n",
      "[29]\tvalid_0's multi_logloss: 0.180019\n",
      "[30]\tvalid_0's multi_logloss: 0.178419\n",
      "[31]\tvalid_0's multi_logloss: 0.176987\n",
      "[32]\tvalid_0's multi_logloss: 0.175729\n",
      "[33]\tvalid_0's multi_logloss: 0.174564\n",
      "[34]\tvalid_0's multi_logloss: 0.173586\n",
      "[35]\tvalid_0's multi_logloss: 0.172685\n",
      "[36]\tvalid_0's multi_logloss: 0.171999\n",
      "[37]\tvalid_0's multi_logloss: 0.171434\n",
      "[38]\tvalid_0's multi_logloss: 0.170723\n",
      "[39]\tvalid_0's multi_logloss: 0.17011\n",
      "[40]\tvalid_0's multi_logloss: 0.16959\n",
      "[41]\tvalid_0's multi_logloss: 0.169099\n",
      "[42]\tvalid_0's multi_logloss: 0.168588\n",
      "[43]\tvalid_0's multi_logloss: 0.168163\n",
      "[44]\tvalid_0's multi_logloss: 0.169067\n",
      "[45]\tvalid_0's multi_logloss: 0.168256\n",
      "[46]\tvalid_0's multi_logloss: 0.167982\n",
      "[47]\tvalid_0's multi_logloss: 0.167473\n",
      "[48]\tvalid_0's multi_logloss: 0.167123\n",
      "[49]\tvalid_0's multi_logloss: 0.166885\n",
      "[50]\tvalid_0's multi_logloss: 0.166656\n",
      "[51]\tvalid_0's multi_logloss: 0.166484\n",
      "[52]\tvalid_0's multi_logloss: 0.166339\n",
      "[53]\tvalid_0's multi_logloss: 0.166153\n",
      "[54]\tvalid_0's multi_logloss: 0.17137\n",
      "[55]\tvalid_0's multi_logloss: 0.167131\n",
      "[56]\tvalid_0's multi_logloss: 0.166914\n",
      "[57]\tvalid_0's multi_logloss: 0.166814\n",
      "[58]\tvalid_0's multi_logloss: 0.168378\n",
      "[59]\tvalid_0's multi_logloss: 0.166941\n",
      "[60]\tvalid_0's multi_logloss: 0.166729\n",
      "[61]\tvalid_0's multi_logloss: 0.166868\n",
      "[62]\tvalid_0's multi_logloss: 0.166777\n",
      "[63]\tvalid_0's multi_logloss: 0.16662\n",
      "Early stopping, best iteration is:\n",
      "[53]\tvalid_0's multi_logloss: 0.166153\n",
      "training model for CV #5\n",
      "[1]\tvalid_0's multi_logloss: 0.837388\n",
      "Training until validation scores don't improve for 10 rounds\n",
      "[2]\tvalid_0's multi_logloss: 0.726052\n",
      "[3]\tvalid_0's multi_logloss: 0.638503\n",
      "[4]\tvalid_0's multi_logloss: 0.567609\n",
      "[5]\tvalid_0's multi_logloss: 0.509279\n",
      "[6]\tvalid_0's multi_logloss: 0.460731\n",
      "[7]\tvalid_0's multi_logloss: 0.42011\n",
      "[8]\tvalid_0's multi_logloss: 0.385744\n",
      "[9]\tvalid_0's multi_logloss: 0.356455\n",
      "[10]\tvalid_0's multi_logloss: 0.33155\n",
      "[11]\tvalid_0's multi_logloss: 0.310201\n",
      "[12]\tvalid_0's multi_logloss: 0.291919\n",
      "[13]\tvalid_0's multi_logloss: 0.276093\n",
      "[14]\tvalid_0's multi_logloss: 0.262387\n",
      "[15]\tvalid_0's multi_logloss: 0.250534\n",
      "[16]\tvalid_0's multi_logloss: 0.240227\n",
      "[17]\tvalid_0's multi_logloss: 0.231267\n",
      "[18]\tvalid_0's multi_logloss: 0.223573\n",
      "[19]\tvalid_0's multi_logloss: 0.216729\n",
      "[20]\tvalid_0's multi_logloss: 0.21079\n",
      "[21]\tvalid_0's multi_logloss: 0.205514\n",
      "[22]\tvalid_0's multi_logloss: 0.200986\n",
      "[23]\tvalid_0's multi_logloss: 0.196991\n",
      "[24]\tvalid_0's multi_logloss: 0.193462\n",
      "[25]\tvalid_0's multi_logloss: 0.190296\n",
      "[26]\tvalid_0's multi_logloss: 0.187551\n",
      "[27]\tvalid_0's multi_logloss: 0.18509\n",
      "[28]\tvalid_0's multi_logloss: 0.182941\n",
      "[29]\tvalid_0's multi_logloss: 0.181044\n",
      "[30]\tvalid_0's multi_logloss: 0.179392\n",
      "[31]\tvalid_0's multi_logloss: 0.177891\n",
      "[32]\tvalid_0's multi_logloss: 0.17659\n",
      "[33]\tvalid_0's multi_logloss: 0.175357\n",
      "[34]\tvalid_0's multi_logloss: 0.174236\n",
      "[35]\tvalid_0's multi_logloss: 0.173295\n",
      "[36]\tvalid_0's multi_logloss: 0.172445\n",
      "[37]\tvalid_0's multi_logloss: 0.171719\n",
      "[38]\tvalid_0's multi_logloss: 0.171037\n",
      "[39]\tvalid_0's multi_logloss: 0.170436\n",
      "[40]\tvalid_0's multi_logloss: 0.169825\n",
      "[41]\tvalid_0's multi_logloss: 0.169327\n",
      "[42]\tvalid_0's multi_logloss: 0.168887\n",
      "[43]\tvalid_0's multi_logloss: 0.168507\n",
      "[44]\tvalid_0's multi_logloss: 0.168195\n",
      "[45]\tvalid_0's multi_logloss: 0.167855\n",
      "[46]\tvalid_0's multi_logloss: 0.167592\n",
      "[47]\tvalid_0's multi_logloss: 0.167338\n",
      "[48]\tvalid_0's multi_logloss: 0.167077\n",
      "[49]\tvalid_0's multi_logloss: 0.166856\n",
      "[50]\tvalid_0's multi_logloss: 0.166647\n",
      "[51]\tvalid_0's multi_logloss: 0.16653\n",
      "[52]\tvalid_0's multi_logloss: 0.166411\n",
      "[53]\tvalid_0's multi_logloss: 0.166236\n",
      "[54]\tvalid_0's multi_logloss: 0.170226\n",
      "[55]\tvalid_0's multi_logloss: 0.166515\n",
      "[56]\tvalid_0's multi_logloss: 0.166369\n",
      "[57]\tvalid_0's multi_logloss: 0.166249\n",
      "[58]\tvalid_0's multi_logloss: 0.166127\n",
      "[59]\tvalid_0's multi_logloss: 0.166053\n",
      "[60]\tvalid_0's multi_logloss: 0.165969\n",
      "[61]\tvalid_0's multi_logloss: 0.166042\n",
      "[62]\tvalid_0's multi_logloss: 0.165949\n",
      "[63]\tvalid_0's multi_logloss: 0.165859\n",
      "[64]\tvalid_0's multi_logloss: 0.172227\n",
      "[65]\tvalid_0's multi_logloss: 0.170998\n",
      "[66]\tvalid_0's multi_logloss: 0.168629\n",
      "[67]\tvalid_0's multi_logloss: 0.168461\n",
      "[68]\tvalid_0's multi_logloss: 0.168398\n",
      "[69]\tvalid_0's multi_logloss: 0.168274\n",
      "[70]\tvalid_0's multi_logloss: 0.168116\n",
      "[71]\tvalid_0's multi_logloss: 0.167989\n",
      "[72]\tvalid_0's multi_logloss: 0.16784\n",
      "[73]\tvalid_0's multi_logloss: 0.167751\n",
      "Early stopping, best iteration is:\n",
      "[63]\tvalid_0's multi_logloss: 0.165859\n"
     ]
    }
   ],
   "source": [
    "p_val = np.zeros((trn.shape[0], n_class))\n",
    "p_tst = np.zeros((tst.shape[0], n_class))\n",
    "for i, (i_trn, i_val) in enumerate(cv.split(trn, y), 1):\n",
    "    print(f'training model for CV #{i}')\n",
    "    clf = lgb.LGBMClassifier(objective='multiclass',\n",
    "                             n_estimators=1000,\n",
    "                             num_leaves=64,\n",
    "                             learning_rate=0.1,\n",
    "                             min_child_samples=10,\n",
    "                             subsample=.5,\n",
    "                             subsample_freq=1,\n",
    "                             colsample_bytree=.8,\n",
    "                             random_state=seed,\n",
    "                             n_jobs=-1)\n",
    "    clf.fit(trn[i_trn], y[i_trn],\n",
    "            eval_set=[(trn[i_val], y[i_val])],\n",
    "            eval_metric='multiclass',\n",
    "            early_stopping_rounds=10)\n",
    "    \n",
    "    p_val[i_val, :] = clf.predict_proba(trn[i_val])\n",
    "    p_tst += clf.predict_proba(tst) / n_fold"
   ]
  },
  {
   "cell_type": "code",
   "execution_count": 10,
   "id": "6d3fc681",
   "metadata": {},
   "outputs": [
    {
     "name": "stdout",
     "output_type": "stream",
     "text": [
      "93.1328%\n"
     ]
    }
   ],
   "source": [
    "print(f'{accuracy_score(y, np.argmax(p_val, axis=1)) * 100:.4f}%')"
   ]
  },
  {
   "cell_type": "code",
   "execution_count": 11,
   "id": "987e7909",
   "metadata": {},
   "outputs": [
    {
     "name": "stdout",
     "output_type": "stream",
     "text": [
      "(320000, 3) (80000, 3)\n"
     ]
    }
   ],
   "source": [
    "print(p_val.shape, p_tst.shape)"
   ]
  },
  {
   "cell_type": "code",
   "execution_count": 12,
   "id": "5243f3f1",
   "metadata": {},
   "outputs": [],
   "source": [
    "# Stacking에 사용\n",
    "np.savetxt(p_val_file, p_val, fmt='%.6f', delimiter=',')\n",
    "np.savetxt(p_tst_file, p_tst, fmt='%.6f', delimiter=',')"
   ]
  },
  {
   "cell_type": "markdown",
   "id": "2b5c38ed",
   "metadata": {},
   "source": [
    "### Visualize Feature Importance"
   ]
  },
  {
   "cell_type": "code",
   "execution_count": 20,
   "id": "1ed2269a",
   "metadata": {},
   "outputs": [
    {
     "data": {
      "text/plain": [
       "<AxesSubplot:ylabel='feature'>"
      ]
     },
     "execution_count": 20,
     "metadata": {},
     "output_type": "execute_result"
    },
    {
     "data": {
      "image/png": "[encoded data removed]",
      "text/plain": [
       "<Figure size 1152x576 with 1 Axes>"
      ]
     },
     "metadata": {},
     "output_type": "display_data"
    }
   ],
   "source": [
    "imp = pd.DataFrame({'feature': feature_names, 'importance': clf.feature_importances_})\n",
    "imp = imp.sort_values('importance').set_index('feature')\n",
    "imp.plot(kind='barh')"
   ]
  },
  {
   "cell_type": "markdown",
   "id": "1ac481da",
   "metadata": {},
   "source": [
    "The Logistic Regression Model seems to be most important"
   ]
  },
  {
   "cell_type": "markdown",
   "id": "ed534a85",
   "metadata": {},
   "source": [
    "### Create Submission File"
   ]
  },
  {
   "cell_type": "code",
   "execution_count": 21,
   "id": "37264765",
   "metadata": {},
   "outputs": [
    {
     "name": "stdout",
     "output_type": "stream",
     "text": [
      "(80000, 1)\n"
     ]
    },
    {
     "data": {
      "text/html": [
       "<div>\n",
       "<style scoped>\n",
       "    .dataframe tbody tr th:only-of-type {\n",
       "        vertical-align: middle;\n",
       "    }\n",
       "\n",
       "    .dataframe tbody tr th {\n",
       "        vertical-align: top;\n",
       "    }\n",
       "\n",
       "    .dataframe thead th {\n",
       "        text-align: right;\n",
       "    }\n",
       "</style>\n",
       "<table border=\"1\" class=\"dataframe\">\n",
       "  <thead>\n",
       "    <tr style=\"text-align: right;\">\n",
       "      <th></th>\n",
       "      <th>class</th>\n",
       "    </tr>\n",
       "    <tr>\n",
       "      <th>id</th>\n",
       "      <th></th>\n",
       "    </tr>\n",
       "  </thead>\n",
       "  <tbody>\n",
       "    <tr>\n",
       "      <th>320000</th>\n",
       "      <td>0</td>\n",
       "    </tr>\n",
       "    <tr>\n",
       "      <th>320001</th>\n",
       "      <td>0</td>\n",
       "    </tr>\n",
       "    <tr>\n",
       "      <th>320002</th>\n",
       "      <td>0</td>\n",
       "    </tr>\n",
       "    <tr>\n",
       "      <th>320003</th>\n",
       "      <td>0</td>\n",
       "    </tr>\n",
       "    <tr>\n",
       "      <th>320004</th>\n",
       "      <td>0</td>\n",
       "    </tr>\n",
       "  </tbody>\n",
       "</table>\n",
       "</div>"
      ],
      "text/plain": [
       "        class\n",
       "id           \n",
       "320000      0\n",
       "320001      0\n",
       "320002      0\n",
       "320003      0\n",
       "320004      0"
      ]
     },
     "execution_count": 21,
     "metadata": {},
     "output_type": "execute_result"
    }
   ],
   "source": [
    "sub = pd.read_csv(sample_file, index_col=0)\n",
    "print(sub.shape)\n",
    "sub.head()"
   ]
  },
  {
   "cell_type": "code",
   "execution_count": 22,
   "id": "ff327ba8",
   "metadata": {},
   "outputs": [
    {
     "data": {
      "text/html": [
       "<div>\n",
       "<style scoped>\n",
       "    .dataframe tbody tr th:only-of-type {\n",
       "        vertical-align: middle;\n",
       "    }\n",
       "\n",
       "    .dataframe tbody tr th {\n",
       "        vertical-align: top;\n",
       "    }\n",
       "\n",
       "    .dataframe thead th {\n",
       "        text-align: right;\n",
       "    }\n",
       "</style>\n",
       "<table border=\"1\" class=\"dataframe\">\n",
       "  <thead>\n",
       "    <tr style=\"text-align: right;\">\n",
       "      <th></th>\n",
       "      <th>class</th>\n",
       "    </tr>\n",
       "    <tr>\n",
       "      <th>id</th>\n",
       "      <th></th>\n",
       "    </tr>\n",
       "  </thead>\n",
       "  <tbody>\n",
       "    <tr>\n",
       "      <th>320000</th>\n",
       "      <td>2</td>\n",
       "    </tr>\n",
       "    <tr>\n",
       "      <th>320001</th>\n",
       "      <td>0</td>\n",
       "    </tr>\n",
       "    <tr>\n",
       "      <th>320002</th>\n",
       "      <td>2</td>\n",
       "    </tr>\n",
       "    <tr>\n",
       "      <th>320003</th>\n",
       "      <td>0</td>\n",
       "    </tr>\n",
       "    <tr>\n",
       "      <th>320004</th>\n",
       "      <td>2</td>\n",
       "    </tr>\n",
       "  </tbody>\n",
       "</table>\n",
       "</div>"
      ],
      "text/plain": [
       "        class\n",
       "id           \n",
       "320000      2\n",
       "320001      0\n",
       "320002      2\n",
       "320003      0\n",
       "320004      2"
      ]
     },
     "execution_count": 22,
     "metadata": {},
     "output_type": "execute_result"
    }
   ],
   "source": [
    "sub[target_col] = np.argmax(p_tst, axis=1)\n",
    "sub.head()"
   ]
  },
  {
   "cell_type": "code",
   "execution_count": 23,
   "id": "6858f881",
   "metadata": {},
   "outputs": [
    {
     "data": {
      "text/plain": [
       "2    40634\n",
       "0    29988\n",
       "1     9378\n",
       "Name: class, dtype: int64"
      ]
     },
     "execution_count": 23,
     "metadata": {},
     "output_type": "execute_result"
    }
   ],
   "source": [
    "sub[target_col].value_counts()"
   ]
  },
  {
   "cell_type": "markdown",
   "id": "f9e2d73c",
   "metadata": {},
   "source": [
    "### Saving Submission File"
   ]
  },
  {
   "cell_type": "code",
   "execution_count": 24,
   "id": "ec216c08",
   "metadata": {},
   "outputs": [],
   "source": [
    "sub.to_csv(sub_file)"
   ]
  },
  {
   "cell_type": "code",
   "execution_count": null,
   "id": "36177670",
   "metadata": {},
   "outputs": [],
   "source": []
  }
 ],
 "metadata": {
  "kernelspec": {
   "display_name": "py37",
   "language": "python",
   "name": "py37"
  },
  "language_info": {
   "codemirror_mode": {
    "name": "ipython",
    "version": 3
   },
   "file_extension": ".py",
   "mimetype": "text/x-python",
   "name": "python",
   "nbconvert_exporter": "python",
   "pygments_lexer": "ipython3",
   "version": "3.7.11"
  }
 },
 "nbformat": 4,
 "nbformat_minor": 5
}
